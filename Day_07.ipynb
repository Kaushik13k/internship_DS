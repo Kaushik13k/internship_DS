{
 "cells": [
  {
   "cell_type": "code",
   "execution_count": 1,
   "metadata": {},
   "outputs": [],
   "source": [
    "import numpy as np"
   ]
  },
  {
   "cell_type": "code",
   "execution_count": 2,
   "metadata": {},
   "outputs": [
    {
     "name": "stdout",
     "output_type": "stream",
     "text": [
      "<module 'numpy' from 'C:\\\\Users\\\\13kau\\\\AppData\\\\Roaming\\\\Python\\\\Python38\\\\site-packages\\\\numpy\\\\__init__.py'>\n"
     ]
    }
   ],
   "source": [
    "print(np)"
   ]
  },
  {
   "cell_type": "code",
   "execution_count": 3,
   "metadata": {},
   "outputs": [],
   "source": [
    "nparr = np.array([1,2,3,4,5])"
   ]
  },
  {
   "cell_type": "code",
   "execution_count": 4,
   "metadata": {},
   "outputs": [
    {
     "name": "stdout",
     "output_type": "stream",
     "text": [
      "<class 'numpy.ndarray'>\n"
     ]
    }
   ],
   "source": [
    "print(type(nparr))"
   ]
  },
  {
   "cell_type": "code",
   "execution_count": 5,
   "metadata": {},
   "outputs": [
    {
     "name": "stdout",
     "output_type": "stream",
     "text": [
      "<class 'numpy.ndarray'> ---> 1 --> [1 2 3 4 5]\n"
     ]
    }
   ],
   "source": [
    "print(type(nparr),\"--->\",nparr.ndim,\"-->\",nparr)"
   ]
  },
  {
   "cell_type": "code",
   "execution_count": 6,
   "metadata": {},
   "outputs": [],
   "source": [
    "nparr = np.array([[1,2,3,4,5],[2,4,6,8,10]])"
   ]
  },
  {
   "cell_type": "code",
   "execution_count": 7,
   "metadata": {},
   "outputs": [
    {
     "name": "stdout",
     "output_type": "stream",
     "text": [
      "<class 'numpy.ndarray'> ---> 2 --> [[ 1  2  3  4  5]\n",
      " [ 2  4  6  8 10]]\n"
     ]
    }
   ],
   "source": [
    "print(type(nparr),\"--->\",nparr.ndim,\"-->\",nparr)"
   ]
  },
  {
   "cell_type": "code",
   "execution_count": 8,
   "metadata": {},
   "outputs": [],
   "source": [
    "#1D NumPy Array ---> [1,2,3,4]\n",
    "#2D NumPy Array ---> [[1,2,3,4]]\n",
    "#3D NumPy Array ---> [[[1,2,3,4]],[[1,2,3,4]]]"
   ]
  },
  {
   "cell_type": "code",
   "execution_count": 9,
   "metadata": {},
   "outputs": [
    {
     "name": "stdout",
     "output_type": "stream",
     "text": [
      "['1' '2' '3' 'a' '5']\n"
     ]
    }
   ],
   "source": [
    "narr2 = np.array([1,2,3,'a',5]) #if there is 1 string present then all are converted into string\n",
    "print(narr2) #homogenious"
   ]
  },
  {
   "cell_type": "code",
   "execution_count": 10,
   "metadata": {},
   "outputs": [
    {
     "name": "stdout",
     "output_type": "stream",
     "text": [
      "['1' '2' '3' '' '5']\n"
     ]
    }
   ],
   "source": [
    "narr3 = np.array([1,2,3,'',5])\n",
    "print(narr3)"
   ]
  },
  {
   "cell_type": "code",
   "execution_count": 11,
   "metadata": {},
   "outputs": [
    {
     "name": "stdout",
     "output_type": "stream",
     "text": [
      "<U11\n",
      "int32\n",
      "int32\n"
     ]
    }
   ],
   "source": [
    "na1 = np.array([1,2,3,'a',5])\n",
    "na2 = np.array([1,2,3,4,5])\n",
    "na3 = np.array([1,23,4,5])\n",
    "print(na1.dtype)\n",
    "print(na2.dtype)\n",
    "print(na3.dtype) #types of numpy"
   ]
  },
  {
   "cell_type": "code",
   "execution_count": 12,
   "metadata": {},
   "outputs": [
    {
     "name": "stdout",
     "output_type": "stream",
     "text": [
      "(array([0. , 0.5, 1. , 1.5, 2. , 2.5, 3. , 3.5, 4. , 4.5]), 0.5)\n"
     ]
    }
   ],
   "source": [
    "# automatic creating numpy array\n",
    "# arr0= np.linspace(0,5)\n",
    "# print(arr0)\n",
    "# arr1 = np.linspace(0,5,10) #np.linspace(start,end, num,endpoint, retstep, dtype\n",
    "# print(arr1)\n",
    "# arr2 =p.linspace(0,5,10,retstep=True)\n",
    "# print(arr2)\n",
    "arr4=np.linspace(0,5,10,endpoint=False, retstep=True)\n",
    "print(arr4)"
   ]
  },
  {
   "cell_type": "code",
   "execution_count": 13,
   "metadata": {},
   "outputs": [
    {
     "name": "stdout",
     "output_type": "stream",
     "text": [
      "[1.00000000e+01 1.29154967e+03 1.66810054e+05 2.15443469e+07\n",
      " 2.78255940e+09 3.59381366e+11 4.64158883e+13 5.99484250e+15\n",
      " 7.74263683e+17 1.00000000e+20]\n"
     ]
    }
   ],
   "source": [
    "#logspace --> if we want number in logarithms\n",
    "#logspace(start, stop, num, endpoint, base,dtype)\n",
    "larr1 = np.logspace(1,20,10)\n",
    "print(larr1)"
   ]
  },
  {
   "cell_type": "code",
   "execution_count": 14,
   "metadata": {},
   "outputs": [
    {
     "name": "stdout",
     "output_type": "stream",
     "text": [
      "[0 2 4 6 8]\n"
     ]
    }
   ],
   "source": [
    "#range in numpy\n",
    "# arange(start, stop ,step)\n",
    "ral = np.arange(0,10,2)\n",
    "print(ral)"
   ]
  },
  {
   "cell_type": "code",
   "execution_count": 15,
   "metadata": {},
   "outputs": [
    {
     "name": "stdout",
     "output_type": "stream",
     "text": [
      "[[0. 0. 0.]\n",
      " [0. 0. 0.]]\n",
      "[[1. 1. 1. 1. 1.]\n",
      " [1. 1. 1. 1. 1.]\n",
      " [1. 1. 1. 1. 1.]]\n"
     ]
    }
   ],
   "source": [
    "# true or false in 0, 1\n",
    "zero = np.zeros((2,3))\n",
    "print(zero)\n",
    "ones = np.ones((3,5))\n",
    "print(ones)"
   ]
  },
  {
   "cell_type": "code",
   "execution_count": 16,
   "metadata": {},
   "outputs": [
    {
     "name": "stdout",
     "output_type": "stream",
     "text": [
      "[[0.33068179 0.37276138]\n",
      " [0.49530406 0.44791371]\n",
      " [0.91124809 0.0015075 ]]\n"
     ]
    }
   ],
   "source": [
    "random = np.random.rand(3,2)\n",
    "print(random)"
   ]
  },
  {
   "cell_type": "code",
   "execution_count": 17,
   "metadata": {},
   "outputs": [
    {
     "name": "stdout",
     "output_type": "stream",
     "text": [
      "Help on built-in function rand:\n",
      "\n",
      "rand(...) method of numpy.random.mtrand.RandomState instance\n",
      "    rand(d0, d1, ..., dn)\n",
      "    \n",
      "    Random values in a given shape.\n",
      "    \n",
      "    .. note::\n",
      "        This is a convenience function for users porting code from Matlab,\n",
      "        and wraps `random_sample`. That function takes a\n",
      "        tuple to specify the size of the output, which is consistent with\n",
      "        other NumPy functions like `numpy.zeros` and `numpy.ones`.\n",
      "    \n",
      "    Create an array of the given shape and populate it with\n",
      "    random samples from a uniform distribution\n",
      "    over ``[0, 1)``.\n",
      "    \n",
      "    Parameters\n",
      "    ----------\n",
      "    d0, d1, ..., dn : int, optional\n",
      "        The dimensions of the returned array, must be non-negative.\n",
      "        If no argument is given a single Python float is returned.\n",
      "    \n",
      "    Returns\n",
      "    -------\n",
      "    out : ndarray, shape ``(d0, d1, ..., dn)``\n",
      "        Random values.\n",
      "    \n",
      "    See Also\n",
      "    --------\n",
      "    random\n",
      "    \n",
      "    Examples\n",
      "    --------\n",
      "    >>> np.random.rand(3,2)\n",
      "    array([[ 0.14022471,  0.96360618],  #random\n",
      "           [ 0.37601032,  0.25528411],  #random\n",
      "           [ 0.49313049,  0.94909878]]) #random\n",
      "\n"
     ]
    }
   ],
   "source": [
    "help(np.random.rand)"
   ]
  },
  {
   "cell_type": "code",
   "execution_count": 18,
   "metadata": {},
   "outputs": [
    {
     "name": "stdout",
     "output_type": "stream",
     "text": [
      "<class 'list'> ---> 1000\n",
      "<class 'numpy.ndarray'> ---> 10000\n",
      "time--> 0.011523700000000137\n",
      "np.time--> 0.013949999999999907\n"
     ]
    }
   ],
   "source": [
    "# why numpy? ---> Time!\n",
    "#differenciate \n",
    "import timeit\n",
    "\n",
    "size = 1000\n",
    "iternations = 1000\n",
    "\n",
    "narr = np.array(range(10000))\n",
    "\n",
    "list1 = list(range(size))\n",
    "print(type(list1), \"--->\",len(list1))\n",
    "\n",
    "def sumlist(lst1):\n",
    "    return sum(lst1)\n",
    "print(type(narr), \"--->\",len(narr))\n",
    "\n",
    "def sumarraynp(lst2):\n",
    "    return np.sum(lst2)\n",
    "\n",
    "resuttime = timeit.timeit('sumlist(list1)',globals=globals() ,number=iternations)\n",
    "print(\"time-->\",resuttime)\n",
    "\n",
    "\n",
    "resuttime1 = timeit.timeit('sumarraynp(narr)',globals=globals() ,number=iternations)\n",
    "print(\"np.time-->\",resuttime1)"
   ]
  },
  {
   "cell_type": "code",
   "execution_count": 20,
   "metadata": {},
   "outputs": [],
   "source": [
    "#therefore more time in numpy\n",
    "# numpy has c advantage"
   ]
  },
  {
   "cell_type": "code",
   "execution_count": 21,
   "metadata": {},
   "outputs": [
    {
     "name": "stdout",
     "output_type": "stream",
     "text": [
      "type:--> <class 'list'>\n",
      "type:--> <class 'numpy.ndarray'>\n",
      "size of list 28000\n",
      "sixe of numpy 4000\n"
     ]
    }
   ],
   "source": [
    "#measure size\n",
    "import sys\n",
    "size = 1000\n",
    "list2 = list(range(1000))\n",
    "print(\"type:-->\", type(list2))\n",
    "narr2 = np.array(range(1000))\n",
    "print(\"type:-->\", type(narr2))\n",
    "\n",
    "print(\"size of list\", sys.getsizeof(1)*len(list2))\n",
    "print(\"sixe of numpy\", narr2.itemsize*len(narr2))"
   ]
  },
  {
   "cell_type": "markdown",
   "metadata": {},
   "source": [
    "# Shape"
   ]
  },
  {
   "cell_type": "code",
   "execution_count": 27,
   "metadata": {},
   "outputs": [
    {
     "name": "stdout",
     "output_type": "stream",
     "text": [
      "[[1 2 3 4]\n",
      " [5 6 7 8]]\n",
      "(2, 4)\n"
     ]
    }
   ],
   "source": [
    "array1 = np.array([(1,2,3,4),(5,6,7,8)])\n",
    "print(array1)\n",
    "print(array1.shape)"
   ]
  },
  {
   "cell_type": "code",
   "execution_count": 30,
   "metadata": {},
   "outputs": [
    {
     "name": "stdout",
     "output_type": "stream",
     "text": [
      "old ---> [[1 2 3 4]\n",
      " [5 6 7 8]]\n",
      "(2, 4)\n",
      "old ---> [[1 2]\n",
      " [3 4]\n",
      " [5 6]\n",
      " [7 8]]\n"
     ]
    }
   ],
   "source": [
    "array2 = np.array([(1,2,3,4),(5,6,7,8)])\n",
    "print(f\"old ---> {array2}\")\n",
    "print(array1.shape)\n",
    "a = array1.reshape(4,2)\n",
    "print(f\"old ---> {a}\")"
   ]
  },
  {
   "cell_type": "markdown",
   "metadata": {},
   "source": [
    "# Slizing"
   ]
  },
  {
   "cell_type": "code",
   "execution_count": 32,
   "metadata": {},
   "outputs": [
    {
     "name": "stdout",
     "output_type": "stream",
     "text": [
      "value in 3rd position is --> 4\n"
     ]
    }
   ],
   "source": [
    "array3 = np.array([(1,2,3,4),(5,6,7,8)])\n",
    "print(f\"value in 3rd position is --> {array3[0,3]}\")"
   ]
  },
  {
   "cell_type": "code",
   "execution_count": 34,
   "metadata": {},
   "outputs": [
    {
     "name": "stdout",
     "output_type": "stream",
     "text": [
      "value in 3rd position startng from 0th arary is --> [4 8]\n"
     ]
    }
   ],
   "source": [
    "array4 = np.array([(1,2,3,4),(5,6,7,8)])\n",
    "print(f\"value in 3rd position startng from 0th arary is --> {array4[0:,3]}\")"
   ]
  },
  {
   "cell_type": "code",
   "execution_count": 36,
   "metadata": {},
   "outputs": [
    {
     "name": "stdout",
     "output_type": "stream",
     "text": [
      "8\n",
      "1\n"
     ]
    }
   ],
   "source": [
    "array5 = np.array([(1,2,3,4),(5,6,7,8)])\n",
    "print(array5.max())#maximum and minimum number\n",
    "print(array5.min())"
   ]
  },
  {
   "cell_type": "code",
   "execution_count": 37,
   "metadata": {},
   "outputs": [
    {
     "name": "stdout",
     "output_type": "stream",
     "text": [
      "36\n"
     ]
    }
   ],
   "source": [
    "array6 = np.array([(1,2,3,4),(5,6,7,8)])\n",
    "print(array6.sum())"
   ]
  },
  {
   "cell_type": "code",
   "execution_count": 39,
   "metadata": {},
   "outputs": [
    {
     "name": "stdout",
     "output_type": "stream",
     "text": [
      "sum of columns --> [ 6  8 10 12]\n",
      "sum of rows -->[10 26]\n"
     ]
    }
   ],
   "source": [
    "#Axis1 ---> Sum of Vertical Rows\n",
    "#Axis0 ---> Sum of columns\n",
    "array7 = np.array([(1,2,3,4),(5,6,7,8)])\n",
    "print(f\"sum of columns --> {array7.sum(axis=0)}\")\n",
    "print(f\"sum of rows -->{array7.sum(axis=1)}\")"
   ]
  },
  {
   "cell_type": "code",
   "execution_count": 40,
   "metadata": {},
   "outputs": [
    {
     "name": "stdout",
     "output_type": "stream",
     "text": [
      "[[1.         1.41421356 1.73205081 2.        ]\n",
      " [2.23606798 2.44948974 2.64575131 2.82842712]]\n"
     ]
    }
   ],
   "source": [
    "#standard deviation and squareoot\n",
    "array8 = np.array([(1,2,3,4),(5,6,7,8)])\n",
    "print(np.sqrt(array8))"
   ]
  },
  {
   "cell_type": "code",
   "execution_count": 41,
   "metadata": {},
   "outputs": [
    {
     "name": "stdout",
     "output_type": "stream",
     "text": [
      "2.29128784747792\n"
     ]
    }
   ],
   "source": [
    "array9 = np.array([(1,2,3,4),(5,6,7,8)])\n",
    "print(np.std(array9))"
   ]
  },
  {
   "cell_type": "code",
   "execution_count": 57,
   "metadata": {},
   "outputs": [
    {
     "name": "stdout",
     "output_type": "stream",
     "text": [
      "vstack is ---> [[1 2 3 4]\n",
      " [5 6 7 8]\n",
      " [1 2 3 4]\n",
      " [5 6 7 8]]\n",
      "vstack is ---> [[1 2 3 4 1 2 3 4]\n",
      " [5 6 7 8 5 6 7 8]]\n",
      "sum of 2 array is ---> [[ 2  4  6  8]\n",
      " [10 12 14 16]]\n",
      "the reval is --> [1 2 3 4 5 6 7 8]\n",
      "1\n"
     ]
    }
   ],
   "source": [
    "#vstack and hstack\n",
    "array11 = np.array([(1,2,3,4),(5,6,7,8)])\n",
    "array12 = np.array([(1,2,3,4),(5,6,7,8)])\n",
    "\n",
    "print(f\"vstack is ---> {np.vstack((array11,array12))}\")\n",
    "print(f\"vstack is ---> {np.hstack((array11,array12))}\")\n",
    "\n",
    "# addition of two array\n",
    "print(f\"sum of 2 array is ---> {array11+array12}\")\n",
    "\n",
    "#ravel --> maing 2d to 1d\n",
    "a = array11.ravel()\n",
    "print(f\"the reval is --> {a}\")\n",
    "print(a.ndim)"
   ]
  },
  {
   "cell_type": "code",
   "execution_count": null,
   "metadata": {},
   "outputs": [],
   "source": []
  }
 ],
 "metadata": {
  "kernelspec": {
   "display_name": "Python 3",
   "language": "python",
   "name": "python3"
  },
  "language_info": {
   "codemirror_mode": {
    "name": "ipython",
    "version": 3
   },
   "file_extension": ".py",
   "mimetype": "text/x-python",
   "name": "python",
   "nbconvert_exporter": "python",
   "pygments_lexer": "ipython3",
   "version": "3.8.5"
  }
 },
 "nbformat": 4,
 "nbformat_minor": 4
}
