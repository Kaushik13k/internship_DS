{
 "cells": [
  {
   "cell_type": "markdown",
   "metadata": {},
   "source": [
    "### Gathering the Data /Preparing the data\n"
   ]
  },
  {
   "cell_type": "code",
   "execution_count": 37,
   "metadata": {},
   "outputs": [],
   "source": [
    "import os"
   ]
  },
  {
   "cell_type": "code",
   "execution_count": 42,
   "metadata": {},
   "outputs": [
    {
     "name": "stdout",
     "output_type": "stream",
     "text": [
      "\n",
      " ['.ipynb_checkpoints', 'Ashitha - Chrome.lnk', 'assignment', 'assignment.txt', 'CrystalDiskInfo.lnk', 'Data', 'desktop.ini', 'DS with R', 'imageClassifier', 'internship', 'Internship_letter.docx', 'K (kaushik) - Chrome.lnk', 'K Kaushik (kaushik shYdri) - Chrome.lnk', 'modern-cv-template-with-photo', 'modern-simple-template-for-curriculum', 'Motor.pdf', 'NLP', 'p1.txt', 'R_Basics(Course{HarvardX})', 'Sem1_Lab_Progs', 'shutdown.exe.lnk', 'TrashDetection', 'ui-designer-resume', 'Untitled.ipynb', 'Untitled1.ipynb', 'Untitled2.ipynb', 'Untitled3.ipynb', 'Visual Studio Code.lnk', '__RESUME__INTERN.jpg', '__RESUME__INTERN.psd']\n"
     ]
    }
   ],
   "source": [
    "#getting all the files from local system\n",
    "dir_name = 'C:/Users/13kau/OneDrive/Desktop'\n",
    "list_filenames = []\n",
    "\n",
    "for file in os.listdir(dir_name):\n",
    "    list_filenames.append(file)\n",
    "print(\"\\n\", list_filenames)"
   ]
  },
  {
   "cell_type": "code",
   "execution_count": 13,
   "metadata": {},
   "outputs": [
    {
     "name": "stdout",
     "output_type": "stream",
     "text": [
      "['assignment.txt', 'p1.txt']\n"
     ]
    }
   ],
   "source": [
    "#splitting file names based on FULLSTOP\n",
    "csv_files = list()\n",
    "for i in list_filenames:\n",
    "#     print(i.split('.')[-1])\n",
    "    if (i.split('.')[-1]) == 'txt':\n",
    "        csv_files.append(i)\n",
    "print(csv_files)"
   ]
  },
  {
   "cell_type": "code",
   "execution_count": 14,
   "metadata": {},
   "outputs": [],
   "source": [
    "import matplotlib.pyplot as plt\n",
    "import networkx as nx"
   ]
  },
  {
   "cell_type": "code",
   "execution_count": 1,
   "metadata": {},
   "outputs": [
    {
     "ename": "NameError",
     "evalue": "name 'nx' is not defined",
     "output_type": "error",
     "traceback": [
      "\u001b[1;31m---------------------------------------------------------------------------\u001b[0m",
      "\u001b[1;31mNameError\u001b[0m                                 Traceback (most recent call last)",
      "\u001b[1;32m<ipython-input-1-6001dcb7e3cb>\u001b[0m in \u001b[0;36m<module>\u001b[1;34m\u001b[0m\n\u001b[0;32m      1\u001b[0m \u001b[0minput_ng\u001b[0m \u001b[1;33m=\u001b[0m \u001b[1;33m[\u001b[0m\u001b[1;33m[\u001b[0m\u001b[1;34m'n1'\u001b[0m\u001b[1;33m,\u001b[0m\u001b[1;34m'e2'\u001b[0m\u001b[1;33m,\u001b[0m\u001b[1;34m'n3'\u001b[0m\u001b[1;33m]\u001b[0m\u001b[1;33m,\u001b[0m\u001b[1;33m[\u001b[0m\u001b[1;34m'n1'\u001b[0m\u001b[1;33m,\u001b[0m\u001b[1;34m'e2'\u001b[0m\u001b[1;33m,\u001b[0m\u001b[1;34m'n4'\u001b[0m\u001b[1;33m]\u001b[0m\u001b[1;33m,\u001b[0m\u001b[1;33m[\u001b[0m\u001b[1;34m'n3'\u001b[0m\u001b[1;33m,\u001b[0m\u001b[1;34m'e5'\u001b[0m\u001b[1;33m,\u001b[0m\u001b[1;34m'n4'\u001b[0m\u001b[1;33m]\u001b[0m\u001b[1;33m]\u001b[0m\u001b[1;33m\u001b[0m\u001b[1;33m\u001b[0m\u001b[0m\n\u001b[0;32m      2\u001b[0m \u001b[0mlabel_edge\u001b[0m \u001b[1;33m=\u001b[0m \u001b[1;33m{\u001b[0m\u001b[1;33m}\u001b[0m\u001b[1;33m\u001b[0m\u001b[1;33m\u001b[0m\u001b[0m\n\u001b[1;32m----> 3\u001b[1;33m \u001b[0mG\u001b[0m \u001b[1;33m=\u001b[0m \u001b[0mnx\u001b[0m\u001b[1;33m.\u001b[0m\u001b[0mDiGraph\u001b[0m\u001b[1;33m(\u001b[0m\u001b[1;33m)\u001b[0m\u001b[1;33m\u001b[0m\u001b[1;33m\u001b[0m\u001b[0m\n\u001b[0m\u001b[0;32m      4\u001b[0m \u001b[1;32mfor\u001b[0m \u001b[0mi\u001b[0m \u001b[1;32min\u001b[0m \u001b[0minput_ng\u001b[0m\u001b[1;33m:\u001b[0m\u001b[1;33m\u001b[0m\u001b[1;33m\u001b[0m\u001b[0m\n\u001b[0;32m      5\u001b[0m     \u001b[0mG\u001b[0m\u001b[1;33m.\u001b[0m\u001b[0madd_node\u001b[0m\u001b[1;33m(\u001b[0m\u001b[0mi\u001b[0m\u001b[1;33m[\u001b[0m\u001b[1;36m0\u001b[0m\u001b[1;33m]\u001b[0m\u001b[1;33m)\u001b[0m\u001b[1;33m\u001b[0m\u001b[1;33m\u001b[0m\u001b[0m\n",
      "\u001b[1;31mNameError\u001b[0m: name 'nx' is not defined"
     ]
    }
   ],
   "source": [
    "input_ng = [['n1','e2','n3'],['n1','e2','n4'],['n3','e5','n4']]\n",
    "label_edge = {}\n",
    "G = nx.DiGraph()\n",
    "for i in input_ng:\n",
    "    G.add_node(i[0])\n",
    "    G.add_node(i[2])\n",
    "    G.add_edge(i[0], i[2])\n",
    "    label_edge[(i[0], i[2])] = i[1]\n",
    "print(label_edge)\n",
    "pos = nx.spring_layout(G)\n",
    "plt.figure()\n",
    "nx.draw(G, with_labels=True, node_size=1000, node_color='cyan', node_shape='o') #with_labels to get the names\n",
    "nx.draw_networkx_edge_labels(G,pos ,edge_labels = label_edge, font_color='red')\n",
    "plt.show()"
   ]
  },
  {
   "cell_type": "code",
   "execution_count": 1,
   "metadata": {},
   "outputs": [],
   "source": [
    "### Knowledge graph\n",
    "import spacy\n",
    "nlp = spacy.load(\"en_core_web_sm\")"
   ]
  },
  {
   "cell_type": "code",
   "execution_count": 2,
   "metadata": {},
   "outputs": [
    {
     "name": "stdout",
     "output_type": "stream",
     "text": [
      "enter the path:\n",
      "C:/Users/13kau/OneDrive/Desktop/p1.txt\n"
     ]
    }
   ],
   "source": [
    "path = input(\"enter the path:\\n\")\n",
    "# C:/Users/13kau/OneDrive/Desktop/p1.txt"
   ]
  },
  {
   "cell_type": "code",
   "execution_count": 12,
   "metadata": {},
   "outputs": [
    {
     "ename": "SyntaxError",
     "evalue": "invalid syntax (<ipython-input-12-ef0764eb0c22>, line 5)",
     "output_type": "error",
     "traceback": [
      "\u001b[1;36m  File \u001b[1;32m\"<ipython-input-12-ef0764eb0c22>\"\u001b[1;36m, line \u001b[1;32m5\u001b[0m\n\u001b[1;33m    return list_sent = x.split(\",\")\u001b[0m\n\u001b[1;37m                     ^\u001b[0m\n\u001b[1;31mSyntaxError\u001b[0m\u001b[1;31m:\u001b[0m invalid syntax\n"
     ]
    }
   ],
   "source": [
    "f = open(path, \"r\")\n",
    "# print(f.read())\n",
    "for x in f:\n",
    "    print(x.split(\",\"))\n",
    "    return x.split(\",\")\n",
    "\n",
    "    \n",
    "sent = \"kaushik likes to play cricket\"\n",
    "sent2 = \"kaushik is studying Engineering\"\n",
    "sent3 = \"kaushik stays in House\"\n",
    "# list_sent = ['kaushik likes to play cricket','kaushik is studying Engineering', 'kaushik stays in mangalore','cricket is the besr']\n",
    "triple_list = []\n",
    "for i in list_sent:\n",
    "    doc = nlp(i)\n",
    "#     print(i)\n",
    "    for token in doc:\n",
    "        temp_list = []\n",
    "#         print(token.text, token.dep_)\n",
    "\n",
    "        if 'subj' in token.dep_ or 'compound' in token.dep_:\n",
    "            n1 = token.text\n",
    "        if 'obj' in token.dep_:\n",
    "            n2 = token.text\n",
    "        if 'ROOT' in token.dep_:\n",
    "            e = token.text\n",
    "    temp_list.append(n1)\n",
    "    temp_list.append(e)\n",
    "    temp_list.append(n2)\n",
    "    triple_list.append(temp_list)\n",
    "print(triple_list)\n",
    "# [[kaushik ,is studying ,Engineering],[kaushik ,likes to play ,cricket],[kaushik ,stays in ,mangalore]]      \n"
   ]
  },
  {
   "cell_type": "code",
   "execution_count": 5,
   "metadata": {},
   "outputs": [
    {
     "name": "stdout",
     "output_type": "stream",
     "text": [
      "{}\n"
     ]
    },
    {
     "data": {
      "image/png": "[encoded data removed]",
      "text/plain": [
       "<Figure size 432x288 with 1 Axes>"
      ]
     },
     "metadata": {},
     "output_type": "display_data"
    }
   ],
   "source": [
    "import matplotlib.pyplot as plt\n",
    "import networkx as nx\n",
    "input_ng = triple_list\n",
    "label_edge = {}\n",
    "G = nx.DiGraph()\n",
    "for i in input_ng:\n",
    "    G.add_node(i[0])\n",
    "    G.add_node(i[2])\n",
    "    G.add_edge(i[0], i[2])\n",
    "    label_edge[(i[0], i[2])] = i[1]\n",
    "print(label_edge)\n",
    "pos = nx.spring_layout(G)\n",
    "plt.figure()\n",
    "nx.draw(G, with_labels=True, node_size=1000, node_color='cyan', node_shape='o') #with_labels to get the names\n",
    "nx.draw_networkx_edge_labels(G,pos ,edge_labels = label_edge, font_color='red')\n",
    "plt.show()"
   ]
  },
  {
   "cell_type": "code",
   "execution_count": 33,
   "metadata": {},
   "outputs": [
    {
     "name": "stdout",
     "output_type": "stream",
     "text": [
      "give a word!\n",
      "cricket\n"
     ]
    }
   ],
   "source": [
    "user_ip = input(\"give a word!\\n\") "
   ]
  },
  {
   "cell_type": "code",
   "execution_count": 34,
   "metadata": {},
   "outputs": [
    {
     "name": "stdout",
     "output_type": "stream",
     "text": [
      "[['kaushik', 'cricket', 'likes'], ['cricket', 'mangalore', 'is']]\n"
     ]
    }
   ],
   "source": [
    "def get_relationship(word, lable_edge):\n",
    "    related_terms_list = []\n",
    "    \n",
    "    for item_tuple, relationship in lable_edge.items():\n",
    "        if word in item_tuple:\n",
    "            k = []\n",
    "            k.extend(item_tuple)\n",
    "#             k.remove(word)\n",
    "            k.append(relationship)\n",
    "            \n",
    "            related_terms_list.append(k)\n",
    "    \n",
    "    return related_terms_list\n",
    "\n",
    "ip = get_relationship(user_ip, label_edge)\n",
    "print(ip)"
   ]
  },
  {
   "cell_type": "code",
   "execution_count": 35,
   "metadata": {},
   "outputs": [
    {
     "name": "stdout",
     "output_type": "stream",
     "text": [
      "[['kaushik', 'cricket', 'likes'], ['cricket', 'mangalore', 'is']]\n",
      "{('kaushik', 'cricket'): 'likes', ('cricket', 'mangalore'): 'is'}\n"
     ]
    },
    {
     "data": {
      "image/png": "[encoded data removed]",
      "text/plain": [
       "<Figure size 432x288 with 1 Axes>"
      ]
     },
     "metadata": {},
     "output_type": "display_data"
    }
   ],
   "source": [
    "import matplotlib.pyplot as plt\n",
    "import networkx as nx\n",
    "\n",
    "term = \"who\"\n",
    "input_ng = ip\n",
    "print(input_ng)\n",
    "label_edge = {}\n",
    "G = nx.DiGraph()\n",
    "for i in input_ng:\n",
    "    G.add_node(i[0])\n",
    "    G.add_node(i[1])\n",
    "    G.add_edge(i[0], i[1])\n",
    "    label_edge[(i[0], i[1])] = i[2]\n",
    "\n",
    "# for i in input_ng:\n",
    "#     G.add_node(i[0])\n",
    "#     G.add_node(i[1])\n",
    "#     G.add_edge(i[0], i[1])\n",
    "#     label_edge[(i[0], i[1])] = i[1]\n",
    "\n",
    "print(label_edge)\n",
    "pos = nx.spring_layout(G)\n",
    "plt.figure()\n",
    "nx.draw(G, with_labels=True, node_size=1000, node_color='cyan', node_shape='o') #with_labels to get the names\n",
    "nx.draw_networkx_edge_labels(G,pos ,edge_labels = label_edge, font_color='red')\n",
    "plt.show()"
   ]
  },
  {
   "cell_type": "code",
   "execution_count": 27,
   "metadata": {},
   "outputs": [],
   "source": [
    "f = open(\"C:/Users/13kau/OneDrive/Desktop/p1.txt\", \"r\")\n",
    "# print(f.read())\n",
    "for x in f:\n",
    "#   print(x.split(\",\"))\n",
    "    list_sent = x.split(\",\")"
   ]
  },
  {
   "cell_type": "code",
   "execution_count": 84,
   "metadata": {},
   "outputs": [
    {
     "name": "stdout",
     "output_type": "stream",
     "text": [
      "Once advmod\n",
      "upon prep\n",
      "a det\n",
      "time pobj\n",
      "there expl\n",
      "was ROOT\n",
      "a det\n",
      "dear amod\n",
      "little amod\n",
      "girl attr\n",
      "who nsubjpass\n",
      "was auxpass\n",
      "loved relcl\n",
      "by agent\n",
      "every det\n",
      "one pobj\n",
      "who nsubj\n",
      "looked relcl\n",
      "at prep\n",
      "her pobj\n",
      "  ROOT\n",
      "but cc\n",
      "most conj\n",
      "of prep\n",
      "all pobj\n",
      "by prep\n",
      "her poss\n",
      "grandmother pobj\n",
      "  nsubj\n",
      "and cc\n",
      "there expl\n",
      "was ROOT\n",
      "nothing attr\n",
      "that dobj\n",
      "she nsubj\n",
      "would aux\n",
      "not neg\n",
      "have aux\n",
      "given relcl\n",
      "to dative\n",
      "the det\n",
      "child pobj\n",
      ". punct\n",
      "Once mark\n",
      "she nsubj\n",
      "gave ROOT\n",
      "her dative\n",
      "a det\n",
      "little amod\n",
      "cap dobj\n",
      "of prep\n",
      "red amod\n",
      "velvet pobj\n",
      "  ROOT\n",
      "which nsubj\n",
      "suited relcl\n",
      "her dobj\n",
      "so advmod\n",
      "well advmod\n",
      "that mark\n",
      "she nsubj\n",
      "would aux\n",
      "never neg\n",
      "wear ccomp\n",
      "anything dobj\n",
      "else advmod\n",
      ". punct\n",
      "So advmod\n",
      "she nsubjpass\n",
      "was auxpass\n",
      "always advmod\n",
      "called ROOT\n",
      "Little amod\n",
      "Red compound\n",
      "Riding compound\n",
      "Hood oprd\n",
      ". punct\n"
     ]
    }
   ],
   "source": [
    "for i in list_sent:\n",
    "    doc = nlp(i)\n",
    "    for token in doc:\n",
    "        print(token.text, token.dep_)"
   ]
  },
  {
   "cell_type": "code",
   "execution_count": null,
   "metadata": {},
   "outputs": [],
   "source": []
  }
 ],
 "metadata": {
  "kernelspec": {
   "display_name": "Python 3",
   "language": "python",
   "name": "python3"
  },
  "language_info": {
   "codemirror_mode": {
    "name": "ipython",
    "version": 3
   },
   "file_extension": ".py",
   "mimetype": "text/x-python",
   "name": "python",
   "nbconvert_exporter": "python",
   "pygments_lexer": "ipython3",
   "version": "3.8.5"
  }
 },
 "nbformat": 4,
 "nbformat_minor": 4
}
