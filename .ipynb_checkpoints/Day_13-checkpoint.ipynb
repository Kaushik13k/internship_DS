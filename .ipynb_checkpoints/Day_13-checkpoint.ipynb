{
 "cells": [
  {
   "cell_type": "code",
   "execution_count": 1,
   "metadata": {},
   "outputs": [],
   "source": [
    "#NLP --> natural language processing\n",
    "#NLTK --> natural language toolkit"
   ]
  },
  {
   "cell_type": "code",
   "execution_count": 5,
   "metadata": {},
   "outputs": [
    {
     "name": "stdout",
     "output_type": "stream",
     "text": [
      "<module 'nltk' from 'E:\\\\anaconda3\\\\lib\\\\site-packages\\\\nltk\\\\__init__.py'>\n"
     ]
    }
   ],
   "source": [
    "import nltk\n",
    "print(nltk)"
   ]
  },
  {
   "cell_type": "code",
   "execution_count": 6,
   "metadata": {},
   "outputs": [
    {
     "name": "stdout",
     "output_type": "stream",
     "text": [
      "showing info https://raw.githubusercontent.com/nltk/nltk_data/gh-pages/index.xml\n"
     ]
    },
    {
     "data": {
      "text/plain": [
       "True"
      ]
     },
     "execution_count": 6,
     "metadata": {},
     "output_type": "execute_result"
    }
   ],
   "source": [
    "# nltk.download()"
   ]
  },
  {
   "cell_type": "code",
   "execution_count": 8,
   "metadata": {},
   "outputs": [],
   "source": [
    "text = 'HI its monday. Monday brings the joy of new beginning of the week. Weather is good it might rain today'"
   ]
  },
  {
   "cell_type": "code",
   "execution_count": 10,
   "metadata": {},
   "outputs": [],
   "source": [
    "#check how many sentences are available\n",
    "from nltk.tokenize import sent_tokenize"
   ]
  },
  {
   "cell_type": "code",
   "execution_count": 11,
   "metadata": {},
   "outputs": [
    {
     "data": {
      "text/plain": [
       "['HI its monday.',\n",
       " 'Monday brings the joy of new beginning of the week.',\n",
       " 'Weather is good it might rain today']"
      ]
     },
     "execution_count": 11,
     "metadata": {},
     "output_type": "execute_result"
    }
   ],
   "source": [
    "sent_tokenize(text)"
   ]
  },
  {
   "cell_type": "code",
   "execution_count": 12,
   "metadata": {},
   "outputs": [
    {
     "data": {
      "text/plain": [
       "['HI',\n",
       " 'its',\n",
       " 'monday',\n",
       " '.',\n",
       " 'Monday',\n",
       " 'brings',\n",
       " 'the',\n",
       " 'joy',\n",
       " 'of',\n",
       " 'new',\n",
       " 'beginning',\n",
       " 'of',\n",
       " 'the',\n",
       " 'week',\n",
       " '.',\n",
       " 'Weather',\n",
       " 'is',\n",
       " 'good',\n",
       " 'it',\n",
       " 'might',\n",
       " 'rain',\n",
       " 'today']"
      ]
     },
     "execution_count": 12,
     "metadata": {},
     "output_type": "execute_result"
    }
   ],
   "source": [
    "#check how many words are available\n",
    "from nltk.tokenize import word_tokenize\n",
    "word_tokenize(text)"
   ]
  },
  {
   "cell_type": "code",
   "execution_count": 13,
   "metadata": {},
   "outputs": [],
   "source": [
    "#stemming and lemmentation\n",
    "#writing, writes, writer, write -> write"
   ]
  },
  {
   "cell_type": "markdown",
   "metadata": {},
   "source": [
    "### Stemming"
   ]
  },
  {
   "cell_type": "code",
   "execution_count": 16,
   "metadata": {},
   "outputs": [],
   "source": [
    "from nltk.stem import SnowballStemmer"
   ]
  },
  {
   "cell_type": "code",
   "execution_count": 17,
   "metadata": {},
   "outputs": [],
   "source": [
    "tex = SnowballStemmer('english')"
   ]
  },
  {
   "cell_type": "code",
   "execution_count": 18,
   "metadata": {},
   "outputs": [
    {
     "data": {
      "text/plain": [
       "'read'"
      ]
     },
     "execution_count": 18,
     "metadata": {},
     "output_type": "execute_result"
    }
   ],
   "source": [
    "tex.stem('reading')"
   ]
  },
  {
   "cell_type": "code",
   "execution_count": 19,
   "metadata": {},
   "outputs": [],
   "source": [
    "from nltk.stem import PorterStemmer #just cuts the extra wordS"
   ]
  },
  {
   "cell_type": "code",
   "execution_count": 20,
   "metadata": {},
   "outputs": [],
   "source": [
    "ps = PorterStemmer()"
   ]
  },
  {
   "cell_type": "code",
   "execution_count": 26,
   "metadata": {},
   "outputs": [
    {
     "name": "stdout",
     "output_type": "stream",
     "text": [
      "read\n",
      "believ\n"
     ]
    }
   ],
   "source": [
    "print(ps.stem('reading'))\n",
    "print(ps.stem('believes'))"
   ]
  },
  {
   "cell_type": "markdown",
   "metadata": {},
   "source": [
    "### lemmentation"
   ]
  },
  {
   "cell_type": "code",
   "execution_count": 24,
   "metadata": {},
   "outputs": [],
   "source": [
    "from nltk.stem import WordNetLemmatizer #this doesnt just cut but really goes into the meaning of the sentence"
   ]
  },
  {
   "cell_type": "code",
   "execution_count": 27,
   "metadata": {},
   "outputs": [],
   "source": [
    "lem = WordNetLemmatizer()"
   ]
  },
  {
   "cell_type": "code",
   "execution_count": 29,
   "metadata": {},
   "outputs": [
    {
     "data": {
      "text/plain": [
       "'belief'"
      ]
     },
     "execution_count": 29,
     "metadata": {},
     "output_type": "execute_result"
    }
   ],
   "source": [
    "lem.lemmatize('believes')"
   ]
  },
  {
   "cell_type": "code",
   "execution_count": 30,
   "metadata": {},
   "outputs": [],
   "source": [
    "# Learn about noun, verb, adjective, adverb"
   ]
  },
  {
   "cell_type": "code",
   "execution_count": 31,
   "metadata": {},
   "outputs": [],
   "source": [
    "text2 = 'HI its monday. Monday brings the joy of new beginning of the week. Weather is good it might rain today'"
   ]
  },
  {
   "cell_type": "code",
   "execution_count": 34,
   "metadata": {},
   "outputs": [
    {
     "name": "stdout",
     "output_type": "stream",
     "text": [
      "['HI its monday.', 'Monday brings the joy of new beginning of the week.', 'Weather is good it might rain today']\n"
     ]
    }
   ],
   "source": [
    "#getting part of speach\n",
    "sentence_list = sent_tokenize(text) #getting list of sesntence\n",
    "# print(sentence_list)"
   ]
  },
  {
   "cell_type": "code",
   "execution_count": 36,
   "metadata": {},
   "outputs": [
    {
     "name": "stdout",
     "output_type": "stream",
     "text": [
      "[('HI', 'NNP'), ('its', 'PRP$'), ('monday', 'NN'), ('.', '.')]\n",
      "[('Monday', 'NNP'), ('brings', 'VBZ'), ('the', 'DT'), ('joy', 'NN'), ('of', 'IN'), ('new', 'JJ'), ('beginning', 'NN'), ('of', 'IN'), ('the', 'DT'), ('week', 'NN'), ('.', '.')]\n",
      "[('Weather', 'NNP'), ('is', 'VBZ'), ('good', 'JJ'), ('it', 'PRP'), ('might', 'MD'), ('rain', 'VB'), ('today', 'NN')]\n"
     ]
    }
   ],
   "source": [
    "for i in sentence_list:\n",
    "    print(nltk.pos_tag(nltk.word_tokenize(i)))"
   ]
  },
  {
   "cell_type": "code",
   "execution_count": null,
   "metadata": {},
   "outputs": [],
   "source": [
    "#named entity extraction -> extraction based on the part of speech"
   ]
  },
  {
   "cell_type": "code",
   "execution_count": null,
   "metadata": {},
   "outputs": [],
   "source": [
    "#synonyms --> multiple words with same naming (eg. Good, better, best)\n",
    "#acronyms --> abbrevations (eg. AI-> Aritficial Intellegince)\n",
    "#polysemin -> one word with multiple meaning (eg.get)\n",
    "#atromnymes -> opposits (eg.good - bad)"
   ]
  },
  {
   "cell_type": "code",
   "execution_count": 41,
   "metadata": {},
   "outputs": [],
   "source": [
    "from nltk.corpus import wordnet"
   ]
  },
  {
   "cell_type": "code",
   "execution_count": 44,
   "metadata": {},
   "outputs": [
    {
     "data": {
      "text/plain": [
       "[Synset('life.n.01'),\n",
       " Synset('life.n.02'),\n",
       " Synset('life.n.03'),\n",
       " Synset('animation.n.01'),\n",
       " Synset('life.n.05'),\n",
       " Synset('life.n.06'),\n",
       " Synset('life.n.07'),\n",
       " Synset('life.n.08'),\n",
       " Synset('liveliness.n.02'),\n",
       " Synset('life.n.10'),\n",
       " Synset('life.n.11'),\n",
       " Synset('biography.n.01'),\n",
       " Synset('life.n.13'),\n",
       " Synset('life_sentence.n.01')]"
      ]
     },
     "execution_count": 44,
     "metadata": {},
     "output_type": "execute_result"
    }
   ],
   "source": [
    "synonym_list = wordnet.synsets('life')\n",
    "synonym_list"
   ]
  },
  {
   "cell_type": "code",
   "execution_count": 52,
   "metadata": {},
   "outputs": [
    {
     "name": "stdout",
     "output_type": "stream",
     "text": [
      "a characteristic state or mode of living\n",
      "the condition of living or the state of being alive\n"
     ]
    }
   ],
   "source": [
    "print(synonym_list[0].definition()) #to get the meaning og the certain word\n",
    "print(synonym_list[3].definition())"
   ]
  },
  {
   "cell_type": "code",
   "execution_count": 55,
   "metadata": {},
   "outputs": [
    {
     "data": {
      "text/plain": [
       "['social life', 'city life', 'real life']"
      ]
     },
     "execution_count": 55,
     "metadata": {},
     "output_type": "execute_result"
    }
   ],
   "source": [
    "synonym_list[0].examples() #to get where can we use it?\n",
    "# synonym_list[3].examples()"
   ]
  },
  {
   "cell_type": "code",
   "execution_count": null,
   "metadata": {},
   "outputs": [],
   "source": []
  }
 ],
 "metadata": {
  "kernelspec": {
   "display_name": "Python 3",
   "language": "python",
   "name": "python3"
  },
  "language_info": {
   "codemirror_mode": {
    "name": "ipython",
    "version": 3
   },
   "file_extension": ".py",
   "mimetype": "text/x-python",
   "name": "python",
   "nbconvert_exporter": "python",
   "pygments_lexer": "ipython3",
   "version": "3.8.5"
  }
 },
 "nbformat": 4,
 "nbformat_minor": 4
}
