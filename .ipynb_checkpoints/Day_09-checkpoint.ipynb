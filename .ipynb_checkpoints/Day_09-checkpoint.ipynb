{
 "cells": [
  {
   "cell_type": "raw",
   "metadata": {},
   "source": [
    "#pattern matching, refinement, replacement --> NLP\n",
    "import re\n",
    "print(re)"
   ]
  },
  {
   "cell_type": "code",
   "execution_count": 13,
   "metadata": {},
   "outputs": [
    {
     "name": "stdout",
     "output_type": "stream",
     "text": [
      "<re.Match object; span=(22, 26), match='Bike'>\n",
      "22\n",
      "26\n",
      "(22, 26)\n",
      "Bike\n"
     ]
    }
   ],
   "source": [
    "text = \"today i purchased the Bike worth 20 thouasand\"\n",
    "match = re.search(\"(B|b)ike\", text) \n",
    "print(match)\n",
    "print(match.start())\n",
    "print(match.end())\n",
    "print(match.span())\n",
    "print(match.group())"
   ]
  },
  {
   "cell_type": "code",
   "execution_count": 23,
   "metadata": {},
   "outputs": [
    {
     "name": "stdout",
     "output_type": "stream",
     "text": [
      "['bike', 'car', 'bicycle', 'bus']\n"
     ]
    }
   ],
   "source": [
    "text2 = \"today i purchased the Bike worth 20 thouasand, yesterday a bicycle tommoroe a car, day after a bus\"\n",
    "autov = ['bike', 'car', 'bicycle', 'bus', 'auto']\n",
    "\n",
    "found_auto_list = []\n",
    "for i in autov:\n",
    "    if (re.search(i.lower(), text2.lower())): #always conver the both pattern and text to lower so that \n",
    "                                                            #there will no difficulty for searching!!\n",
    "        found_auto_list.append(i)\n",
    "    \n",
    "print(found_auto_list"
   ]
  },
  {
   "cell_type": "code",
   "execution_count": 38,
   "metadata": {},
   "outputs": [
    {
     "name": "stdout",
     "output_type": "stream",
     "text": [
      "['rice: 1KG', 'wheat: 2KG', 'flour: 2KG']\n"
     ]
    }
   ],
   "source": [
    "# * --> zero or more\n",
    "# + --> one or more\n",
    "# ? --> zero or one\n",
    "# . -> any character\n",
    "# ^ -> begin match\n",
    "# $ -> end match\n",
    "# \\s -> space match\n",
    "# \\w -> alpha numeric match\n",
    "# \\d ->digits match\n",
    "text3 = \"Hi i purchased rice: 1KG, wheat: 2KG, and flour: 2KG\"\n",
    "foundItems = re.findall(\"[a-zA-Z]+[:][ ]?[0-9]+[K|M][G]\", text3)#[ ]? i might have space of i might not!\n",
    "# foundItems = re.findall(\"\\w+.\\s?\\d+\\w\\w\", text3) #we can also use this\n",
    "print(foundItems)"
   ]
  },
  {
   "cell_type": "code",
   "execution_count": 56,
   "metadata": {},
   "outputs": [
    {
     "name": "stdout",
     "output_type": "stream",
     "text": [
      "['25 rs.', '44 rs.', '50 rs.']\n",
      "['25', '44', '50']\n",
      "119\n"
     ]
    }
   ],
   "source": [
    "text4 = \"i have 25 Rs. in account1 and 44 Rs.  in account2 and 50 Rs. in hand\"\n",
    "fount_amount0 = re.findall(\"[0-9]+[ ]?rs.\", text4.lower())\n",
    "fount_amount = re.findall(\"([0-9]+)[ ]?rs.\", text4.lower()) #use () in ([0-9]+) so that i need to extract only numbers\n",
    "print(fount_amount0)\n",
    "print(fount_amount)\n",
    "\n",
    "s=0\n",
    "for i in fount_amount:\n",
    "    s = s + int(i)\n",
    "print(s)"
   ]
  },
  {
   "cell_type": "code",
   "execution_count": 59,
   "metadata": {},
   "outputs": [
    {
     "name": "stdout",
     "output_type": "stream",
     "text": [
      "hi wheat rice * flakes corn * tree plant\n"
     ]
    }
   ],
   "source": [
    "#Replacement\n",
    "text5 = \"hi wheat rice - flakes corn - tree plant\"\n",
    "var = re.sub(\"-\", \"*\", text5) #seacrh for \"-\", replace with \"*\"\n",
    "print(var)"
   ]
  },
  {
   "cell_type": "code",
   "execution_count": 65,
   "metadata": {},
   "outputs": [
    {
     "name": "stdout",
     "output_type": "stream",
     "text": [
      "['hi wheat rice ', ' flakes corn ', ' tree plant']\n",
      "['hi wheat rice', 'flakes corn', 'tree plant']\n"
     ]
    }
   ],
   "source": [
    "#refinement\n",
    "text6 = \" hi wheat rice - flakes corn - tree plant\"\n",
    "var2 = re.split(\"-\", text5) #split where we get -\n",
    "print(var2)\n",
    "\n",
    "rlist = []\n",
    "for i in var2:\n",
    "    rlist.append(i.strip())\n",
    "     \n",
    "print(rlist) #to remove spaces we use strip, to remove left space we use -> lstrip, to remove right left space -> rstrip"
   ]
  },
  {
   "cell_type": "code",
   "execution_count": 80,
   "metadata": {},
   "outputs": [
    {
     "name": "stdout",
     "output_type": "stream",
     "text": [
      "['from :abc@gmail.com', 'from : kau@gmail.com', 'from: lll@gmail.com']\n",
      "['abc@gmail.com', ' kau@gmail.com', ' lll@gmail.com']\n"
     ]
    }
   ],
   "source": [
    "text = \"\"\"From :abc@gmail.com\n",
    "To :mmm@gmail.com\n",
    "CC: ggg@gmail.com\n",
    "From : kau@gmail.com\n",
    "To: hello@gmail.com\n",
    "From: lll@gmail.com\n",
    "To: rrr@gmail.com\"\"\"\n",
    "\n",
    "from_mail = re.findall(\"from[ ]?:[ ]?[a-zA-Z]+@[a-zA-Z]+.[a-z]+\", text.lower())\n",
    "print(from_mail)\n",
    "from_mail1 = re.findall(\"from[ ]?:([ ]?[a-zA-Z]+@[a-zA-Z]+.[a-z]+)\", text.lower())\n",
    "print(from_mail1)"
   ]
  },
  {
   "cell_type": "code",
   "execution_count": 27,
   "metadata": {},
   "outputs": [
    {
     "name": "stdout",
     "output_type": "stream",
     "text": [
      "['hello', 'my', 'name', 'is', 'kaushik', 'my', 'full', 'name', 'is', 'k', 'kaushik', 'im', 'from', 'sahyadri', 'colllege', 'of', 'engineering', 'and', 'management']\n"
     ]
    }
   ],
   "source": [
    "import re\n",
    "str1 = \"\"\" hello my name is kaushik. \n",
    "my full name is k kaushik. im from sahyadri colllege of engineering and management.\n",
    "\"\"\"\n",
    "# var2 = re.split(\" \",str1 )\n",
    "# var3 = re.split(\".\", var2)\n",
    "pat = re.findall(\"[\\w]+\",str1)\n",
    "res = []\n",
    "for i in test_list:\n",
    "    if i not in res:\n",
    "        res.append(i)\n",
    "print(pat)"
   ]
  },
  {
   "cell_type": "code",
   "execution_count": 28,
   "metadata": {},
   "outputs": [],
   "source": [
    "import string"
   ]
  },
  {
   "cell_type": "code",
   "execution_count": 29,
   "metadata": {},
   "outputs": [
    {
     "name": "stdout",
     "output_type": "stream",
     "text": [
      "!\"#$%&'()*+,-./:;<=>?@[\\]^_`{|}~\n"
     ]
    }
   ],
   "source": [
    "print (string.punctuation)"
   ]
  },
  {
   "cell_type": "code",
   "execution_count": 36,
   "metadata": {},
   "outputs": [
    {
     "ename": "TypeError",
     "evalue": "'str' object is not callable",
     "output_type": "error",
     "traceback": [
      "\u001b[1;31m---------------------------------------------------------------------------\u001b[0m",
      "\u001b[1;31mTypeError\u001b[0m                                 Traceback (most recent call last)",
      "\u001b[1;32m<ipython-input-36-1e019ba42e58>\u001b[0m in \u001b[0;36m<module>\u001b[1;34m\u001b[0m\n\u001b[0;32m      1\u001b[0m \u001b[0mstr1\u001b[0m \u001b[1;33m=\u001b[0m \u001b[1;34m\"Sahyadri.colege.of.engineerinf\"\u001b[0m\u001b[1;33m\u001b[0m\u001b[1;33m\u001b[0m\u001b[0m\n\u001b[1;32m----> 2\u001b[1;33m \u001b[0mstr1\u001b[0m\u001b[1;33m=\u001b[0m \u001b[0mstr1\u001b[0m\u001b[1;33m.\u001b[0m\u001b[0mreplace\u001b[0m\u001b[1;33m(\u001b[0m\u001b[0mstring\u001b[0m\u001b[1;33m.\u001b[0m\u001b[0mpunctuation\u001b[0m\u001b[1;33m(\u001b[0m\u001b[1;33m)\u001b[0m\u001b[1;33m,\u001b[0m \u001b[1;34m\"*\"\u001b[0m\u001b[1;33m)\u001b[0m\u001b[1;33m\u001b[0m\u001b[1;33m\u001b[0m\u001b[0m\n\u001b[0m\u001b[0;32m      3\u001b[0m \u001b[0mprint\u001b[0m\u001b[1;33m(\u001b[0m\u001b[0mstr1\u001b[0m\u001b[1;33m)\u001b[0m\u001b[1;33m\u001b[0m\u001b[1;33m\u001b[0m\u001b[0m\n",
      "\u001b[1;31mTypeError\u001b[0m: 'str' object is not callable"
     ]
    }
   ],
   "source": [
    "str1 = \"Sahyadri.colege.of.engineerinf\"\n",
    "str1= str1.replace(string.punctuation(), \"*\")\n",
    "print(str1)"
   ]
  },
  {
   "cell_type": "code",
   "execution_count": null,
   "metadata": {},
   "outputs": [],
   "source": []
  }
 ],
 "metadata": {
  "kernelspec": {
   "display_name": "Python 3",
   "language": "python",
   "name": "python3"
  },
  "language_info": {
   "codemirror_mode": {
    "name": "ipython",
    "version": 3
   },
   "file_extension": ".py",
   "mimetype": "text/x-python",
   "name": "python",
   "nbconvert_exporter": "python",
   "pygments_lexer": "ipython3",
   "version": "3.8.5"
  }
 },
 "nbformat": 4,
 "nbformat_minor": 4
}
