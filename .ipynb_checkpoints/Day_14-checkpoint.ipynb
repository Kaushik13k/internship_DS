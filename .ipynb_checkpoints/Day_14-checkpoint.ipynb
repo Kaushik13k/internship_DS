{
 "cells": [
  {
   "cell_type": "code",
   "execution_count": 1,
   "metadata": {},
   "outputs": [],
   "source": [
    "#eliminating stopwords\n",
    "from nltk.corpus import stopwords"
   ]
  },
  {
   "cell_type": "code",
   "execution_count": 2,
   "metadata": {},
   "outputs": [
    {
     "data": {
      "text/plain": [
       "['i',\n",
       " 'me',\n",
       " 'my',\n",
       " 'myself',\n",
       " 'we',\n",
       " 'our',\n",
       " 'ours',\n",
       " 'ourselves',\n",
       " 'you',\n",
       " \"you're\",\n",
       " \"you've\",\n",
       " \"you'll\",\n",
       " \"you'd\",\n",
       " 'your',\n",
       " 'yours',\n",
       " 'yourself',\n",
       " 'yourselves',\n",
       " 'he',\n",
       " 'him',\n",
       " 'his',\n",
       " 'himself',\n",
       " 'she',\n",
       " \"she's\",\n",
       " 'her',\n",
       " 'hers',\n",
       " 'herself',\n",
       " 'it',\n",
       " \"it's\",\n",
       " 'its',\n",
       " 'itself',\n",
       " 'they',\n",
       " 'them',\n",
       " 'their',\n",
       " 'theirs',\n",
       " 'themselves',\n",
       " 'what',\n",
       " 'which',\n",
       " 'who',\n",
       " 'whom',\n",
       " 'this',\n",
       " 'that',\n",
       " \"that'll\",\n",
       " 'these',\n",
       " 'those',\n",
       " 'am',\n",
       " 'is',\n",
       " 'are',\n",
       " 'was',\n",
       " 'were',\n",
       " 'be',\n",
       " 'been',\n",
       " 'being',\n",
       " 'have',\n",
       " 'has',\n",
       " 'had',\n",
       " 'having',\n",
       " 'do',\n",
       " 'does',\n",
       " 'did',\n",
       " 'doing',\n",
       " 'a',\n",
       " 'an',\n",
       " 'the',\n",
       " 'and',\n",
       " 'but',\n",
       " 'if',\n",
       " 'or',\n",
       " 'because',\n",
       " 'as',\n",
       " 'until',\n",
       " 'while',\n",
       " 'of',\n",
       " 'at',\n",
       " 'by',\n",
       " 'for',\n",
       " 'with',\n",
       " 'about',\n",
       " 'against',\n",
       " 'between',\n",
       " 'into',\n",
       " 'through',\n",
       " 'during',\n",
       " 'before',\n",
       " 'after',\n",
       " 'above',\n",
       " 'below',\n",
       " 'to',\n",
       " 'from',\n",
       " 'up',\n",
       " 'down',\n",
       " 'in',\n",
       " 'out',\n",
       " 'on',\n",
       " 'off',\n",
       " 'over',\n",
       " 'under',\n",
       " 'again',\n",
       " 'further',\n",
       " 'then',\n",
       " 'once',\n",
       " 'here',\n",
       " 'there',\n",
       " 'when',\n",
       " 'where',\n",
       " 'why',\n",
       " 'how',\n",
       " 'all',\n",
       " 'any',\n",
       " 'both',\n",
       " 'each',\n",
       " 'few',\n",
       " 'more',\n",
       " 'most',\n",
       " 'other',\n",
       " 'some',\n",
       " 'such',\n",
       " 'no',\n",
       " 'nor',\n",
       " 'not',\n",
       " 'only',\n",
       " 'own',\n",
       " 'same',\n",
       " 'so',\n",
       " 'than',\n",
       " 'too',\n",
       " 'very',\n",
       " 's',\n",
       " 't',\n",
       " 'can',\n",
       " 'will',\n",
       " 'just',\n",
       " 'don',\n",
       " \"don't\",\n",
       " 'should',\n",
       " \"should've\",\n",
       " 'now',\n",
       " 'd',\n",
       " 'll',\n",
       " 'm',\n",
       " 'o',\n",
       " 're',\n",
       " 've',\n",
       " 'y',\n",
       " 'ain',\n",
       " 'aren',\n",
       " \"aren't\",\n",
       " 'couldn',\n",
       " \"couldn't\",\n",
       " 'didn',\n",
       " \"didn't\",\n",
       " 'doesn',\n",
       " \"doesn't\",\n",
       " 'hadn',\n",
       " \"hadn't\",\n",
       " 'hasn',\n",
       " \"hasn't\",\n",
       " 'haven',\n",
       " \"haven't\",\n",
       " 'isn',\n",
       " \"isn't\",\n",
       " 'ma',\n",
       " 'mightn',\n",
       " \"mightn't\",\n",
       " 'mustn',\n",
       " \"mustn't\",\n",
       " 'needn',\n",
       " \"needn't\",\n",
       " 'shan',\n",
       " \"shan't\",\n",
       " 'shouldn',\n",
       " \"shouldn't\",\n",
       " 'wasn',\n",
       " \"wasn't\",\n",
       " 'weren',\n",
       " \"weren't\",\n",
       " 'won',\n",
       " \"won't\",\n",
       " 'wouldn',\n",
       " \"wouldn't\"]"
      ]
     },
     "execution_count": 2,
     "metadata": {},
     "output_type": "execute_result"
    }
   ],
   "source": [
    "stopwords.words('english')"
   ]
  },
  {
   "cell_type": "code",
   "execution_count": 4,
   "metadata": {},
   "outputs": [],
   "source": [
    "from nltk.tokenize import sent_tokenize, word_tokenize"
   ]
  },
  {
   "cell_type": "code",
   "execution_count": 6,
   "metadata": {},
   "outputs": [
    {
     "name": "stdout",
     "output_type": "stream",
     "text": [
      "['Hi', 'my', 'name', 'is', 'kaushik', '.', 'I', 'like', 'playing', 'cricket', '.', 'i', 'study', 'in', 'sahyadri'] 15\n"
     ]
    }
   ],
   "source": [
    "text = 'Hi my name is kaushik. I like playing cricket. i study in sahyadri'\n",
    "stopwords_list = stopwords.words('english')\n",
    "words = word_tokenize(text)\n",
    "print(words, len(words))"
   ]
  },
  {
   "cell_type": "code",
   "execution_count": 8,
   "metadata": {},
   "outputs": [
    {
     "name": "stdout",
     "output_type": "stream",
     "text": [
      "['Hi', 'name', 'kaushik', '.', 'I', 'like', 'playing', 'cricket', '.', 'study', 'sahyadri'] 11\n"
     ]
    }
   ],
   "source": [
    "# to remove the stopwords\n",
    "word_clean = []\n",
    "for i in words:\n",
    "    if i not in stopwords_list:\n",
    "        word_clean.append(i)\n",
    "print(word_clean, len(word_clean))"
   ]
  },
  {
   "cell_type": "code",
   "execution_count": 9,
   "metadata": {},
   "outputs": [
    {
     "name": "stdout",
     "output_type": "stream",
     "text": [
      "['my', 'is', 'i', 'in'] 4\n"
     ]
    }
   ],
   "source": [
    "# to get stopwords\n",
    "clean_woeds = []\n",
    "for i in words:\n",
    "    if i in stopwords_list:\n",
    "        clean_woeds.append(i)\n",
    "print(clean_woeds, len(clean_woeds))"
   ]
  },
  {
   "cell_type": "code",
   "execution_count": 12,
   "metadata": {},
   "outputs": [
    {
     "data": {
      "text/plain": [
       "'!\"#$%&\\'()*+,-./:;<=>?@[\\\\]^_`{|}~'"
      ]
     },
     "execution_count": 12,
     "metadata": {},
     "output_type": "execute_result"
    }
   ],
   "source": [
    "import string\n",
    "string.punctuation"
   ]
  },
  {
   "cell_type": "code",
   "execution_count": 14,
   "metadata": {},
   "outputs": [
    {
     "name": "stdout",
     "output_type": "stream",
     "text": [
      "['Hi', 'name', 'kaushik', 'I', 'like', 'playing', 'cricket', 'study', 'sahyadri'] 9\n"
     ]
    }
   ],
   "source": [
    "# removing . , space\n",
    "import string\n",
    "\n",
    "punt_list = string.punctuation\n",
    "clean_punts = []\n",
    "for i in word_clean:\n",
    "    if i not in punt_list:\n",
    "        clean_punts.append(i)\n",
    "print(clean_punts, len(clean_punts))"
   ]
  },
  {
   "cell_type": "code",
   "execution_count": 16,
   "metadata": {},
   "outputs": [],
   "source": [
    "#THE ABOBE PROCESS IS CALLED CLEANING PROCESS..... CLANING UNTIL WE GET THE CORE WORDS\n",
    "#Data Pre-Processing/Data Wrangling/ Data Clensing"
   ]
  },
  {
   "cell_type": "markdown",
   "metadata": {},
   "source": [
    "## Spacy"
   ]
  },
  {
   "cell_type": "raw",
   "metadata": {},
   "source": [
    "USECASE\n",
    "* Tokenizing\n",
    "* Lemmatization\n",
    "* Boundry detection of sentence\n",
    "* NER -> Named Entity Recognition\n",
    "* Entity Linking\n",
    "* Similarity\n",
    "* Classification\n",
    "* Matching\n",
    "* POS tagging \n",
    "* Dependency parsing\n",
    "* Serilization"
   ]
  },
  {
   "cell_type": "code",
   "execution_count": 19,
   "metadata": {},
   "outputs": [],
   "source": [
    "import spacy\n",
    "nlp = spacy.load(\"en_core_web_sm\")"
   ]
  },
  {
   "cell_type": "code",
   "execution_count": 23,
   "metadata": {},
   "outputs": [],
   "source": [
    "text1 = nlp(\"My name is Kaushik. Apple is a fruit. Apple is a Multinational Brand. It is looking to buy Samsung at $150 Dollars\")"
   ]
  },
  {
   "cell_type": "code",
   "execution_count": 26,
   "metadata": {},
   "outputs": [
    {
     "name": "stdout",
     "output_type": "stream",
     "text": [
      "My\n",
      "name\n",
      "is\n",
      "Kaushik\n",
      ".\n",
      "Apple\n",
      "is\n",
      "a\n",
      "fruit\n",
      ".\n",
      "Apple\n",
      "is\n",
      "a\n",
      "Multinational\n",
      "Brand\n",
      ".\n",
      "It\n",
      "is\n",
      "looking\n",
      "to\n",
      "nuy\n",
      "Samsung\n",
      "at\n",
      "$\n",
      "150\n",
      "Dollars\n"
     ]
    }
   ],
   "source": [
    "for i in text1:\n",
    "    print(i.text)"
   ]
  },
  {
   "cell_type": "code",
   "execution_count": 29,
   "metadata": {},
   "outputs": [
    {
     "name": "stdout",
     "output_type": "stream",
     "text": [
      "My name is Kaushik . Apple is a fruit . Apple is a Multinational Brand . It is looking to nuy Samsung at $ 150 Dollars "
     ]
    }
   ],
   "source": [
    "#to get in same line\n",
    "for i in text1:\n",
    "    print(i.text, end=\" \")"
   ]
  },
  {
   "cell_type": "code",
   "execution_count": 40,
   "metadata": {},
   "outputs": [
    {
     "name": "stdout",
     "output_type": "stream",
     "text": [
      "My \t\t 0\n",
      "name \t\t 3\n",
      "is \t\t 8\n",
      "Kaushik \t\t 11\n",
      ". \t\t 18\n",
      "Apple \t\t 20\n",
      "is \t\t 26\n",
      "a \t\t 29\n",
      "fruit \t\t 31\n",
      ". \t\t 36\n",
      "Apple \t\t 38\n",
      "is \t\t 44\n",
      "a \t\t 47\n",
      "Multinational \t\t 49\n",
      "Brand \t\t 63\n",
      ". \t\t 68\n",
      "It \t\t 70\n",
      "is \t\t 73\n",
      "looking \t\t 76\n",
      "to \t\t 84\n",
      "nuy \t\t 87\n",
      "Samsung \t\t 91\n",
      "at \t\t 99\n",
      "$ \t\t 102\n",
      "150 \t\t 103\n",
      "Dollars \t\t 107\n"
     ]
    }
   ],
   "source": [
    "#to get in token id\n",
    "for i in text1:\n",
    "    print(i.text,\"\\t\\t\",i.idx)"
   ]
  },
  {
   "cell_type": "code",
   "execution_count": 43,
   "metadata": {},
   "outputs": [
    {
     "name": "stdout",
     "output_type": "stream",
     "text": [
      "My \t\t 0 \t\t PRON\n",
      "name \t\t 3 \t\t NOUN\n",
      "is \t\t 8 \t\t AUX\n",
      "Kaushik \t\t 11 \t\t PROPN\n",
      ". \t\t 18 \t\t PUNCT\n",
      "Apple \t\t 20 \t\t PROPN\n",
      "is \t\t 26 \t\t AUX\n",
      "a \t\t 29 \t\t DET\n",
      "fruit \t\t 31 \t\t NOUN\n",
      ". \t\t 36 \t\t PUNCT\n",
      "Apple \t\t 38 \t\t PROPN\n",
      "is \t\t 44 \t\t AUX\n",
      "a \t\t 47 \t\t DET\n",
      "Multinational \t\t 49 \t\t PROPN\n",
      "Brand \t\t 63 \t\t PROPN\n",
      ". \t\t 68 \t\t PUNCT\n",
      "It \t\t 70 \t\t PRON\n",
      "is \t\t 73 \t\t AUX\n",
      "looking \t\t 76 \t\t VERB\n",
      "to \t\t 84 \t\t PART\n",
      "nuy \t\t 87 \t\t VERB\n",
      "Samsung \t\t 91 \t\t PROPN\n",
      "at \t\t 99 \t\t ADP\n",
      "$ \t\t 102 \t\t SYM\n",
      "150 \t\t 103 \t\t NUM\n",
      "Dollars \t\t 107 \t\t NOUN\n"
     ]
    }
   ],
   "source": [
    "#to get Parts Of Speech\n",
    "for i in text1:\n",
    "    print(i.text,\"\\t\\t\",i.idx,\"\\t\\t\",i.pos_)"
   ]
  },
  {
   "cell_type": "code",
   "execution_count": 47,
   "metadata": {},
   "outputs": [
    {
     "name": "stdout",
     "output_type": "stream",
     "text": [
      "My name is Kaushik.\n",
      "Apple is a fruit.\n",
      "Apple is a Multinational Brand.\n",
      "It is looking to nuy Samsung at $150 Dollars\n"
     ]
    }
   ],
   "source": [
    "#sentence wise splitting\n",
    "for sent in text1.sents:\n",
    "    print(sent)"
   ]
  },
  {
   "cell_type": "code",
   "execution_count": 48,
   "metadata": {},
   "outputs": [
    {
     "name": "stdout",
     "output_type": "stream",
     "text": [
      "My \t\t my\n",
      "name \t\t name\n",
      "is \t\t be\n",
      "Kaushik \t\t Kaushik\n",
      ". \t\t .\n",
      "Apple \t\t Apple\n",
      "is \t\t be\n",
      "a \t\t a\n",
      "fruit \t\t fruit\n",
      ". \t\t .\n",
      "Apple \t\t Apple\n",
      "is \t\t be\n",
      "a \t\t a\n",
      "Multinational \t\t Multinational\n",
      "Brand \t\t Brand\n",
      ". \t\t .\n",
      "It \t\t it\n",
      "is \t\t be\n",
      "looking \t\t look\n",
      "to \t\t to\n",
      "nuy \t\t nuy\n",
      "Samsung \t\t Samsung\n",
      "at \t\t at\n",
      "$ \t\t $\n",
      "150 \t\t 150\n",
      "Dollars \t\t dollar\n"
     ]
    }
   ],
   "source": [
    "#lemmatization\n",
    "for sent in text1:\n",
    "    print(sent.text, \"\\t\\t\", sent.lemma_)"
   ]
  },
  {
   "cell_type": "code",
   "execution_count": 50,
   "metadata": {},
   "outputs": [
    {
     "name": "stdout",
     "output_type": "stream",
     "text": [
      "My \t\t my \t\t True\n",
      "name \t\t name \t\t True\n",
      "is \t\t be \t\t True\n",
      "Kaushik \t\t Kaushik \t\t False\n",
      ". \t\t . \t\t False\n",
      "Apple \t\t Apple \t\t False\n",
      "is \t\t be \t\t True\n",
      "a \t\t a \t\t True\n",
      "fruit \t\t fruit \t\t False\n",
      ". \t\t . \t\t False\n",
      "Apple \t\t Apple \t\t False\n",
      "is \t\t be \t\t True\n",
      "a \t\t a \t\t True\n",
      "Multinational \t\t Multinational \t\t False\n",
      "Brand \t\t Brand \t\t False\n",
      ". \t\t . \t\t False\n",
      "It \t\t it \t\t True\n",
      "is \t\t be \t\t True\n",
      "looking \t\t look \t\t False\n",
      "to \t\t to \t\t True\n",
      "nuy \t\t nuy \t\t False\n",
      "Samsung \t\t Samsung \t\t False\n",
      "at \t\t at \t\t True\n",
      "$ \t\t $ \t\t False\n",
      "150 \t\t 150 \t\t False\n",
      "Dollars \t\t dollar \t\t False\n"
     ]
    }
   ],
   "source": [
    "#to check if its a stop words\n",
    "for sent in text1:\n",
    "    print(sent.text, \"\\t\\t\", sent.lemma_, \"\\t\\t\",sent.is_stop)"
   ]
  },
  {
   "cell_type": "code",
   "execution_count": null,
   "metadata": {},
   "outputs": [],
   "source": []
  }
 ],
 "metadata": {
  "kernelspec": {
   "display_name": "Python 3",
   "language": "python",
   "name": "python3"
  },
  "language_info": {
   "codemirror_mode": {
    "name": "ipython",
    "version": 3
   },
   "file_extension": ".py",
   "mimetype": "text/x-python",
   "name": "python",
   "nbconvert_exporter": "python",
   "pygments_lexer": "ipython3",
   "version": "3.8.5"
  }
 },
 "nbformat": 4,
 "nbformat_minor": 4
}
